{
 "cells": [
  {
   "cell_type": "code",
   "execution_count": 1,
   "id": "90f384c5-69d6-47e5-81fb-905a26630396",
   "metadata": {},
   "outputs": [
    {
     "name": "stdout",
     "output_type": "stream",
     "text": [
      "Python 3.11.7\n"
     ]
    }
   ],
   "source": [
    "!python -V"
   ]
  },
  {
   "cell_type": "code",
   "execution_count": 2,
   "id": "f30eb421-7342-4cd1-b58d-f84d38a65ef6",
   "metadata": {},
   "outputs": [],
   "source": [
    "import pandas as pd"
   ]
  },
  {
   "cell_type": "code",
   "execution_count": 3,
   "id": "f306c526-fd0d-4810-83e3-8a588a748962",
   "metadata": {},
   "outputs": [
    {
     "data": {
      "text/plain": [
       "'/workspaces/mlops-zc/01-intro'"
      ]
     },
     "execution_count": 3,
     "metadata": {},
     "output_type": "execute_result"
    }
   ],
   "source": [
    "pwd()"
   ]
  },
  {
   "cell_type": "code",
   "execution_count": 32,
   "id": "34f22d33-746c-43d4-841b-98ab9089470a",
   "metadata": {},
   "outputs": [],
   "source": [
    "df1 = pd.read_parquet('../notebooks/data/green_tripdata_2021-01.parquet')\n",
    "df2 = pd.read_parquet('../notebooks/data/green_tripdata_2021-02.parquet')"
   ]
  },
  {
   "cell_type": "code",
   "execution_count": 33,
   "id": "e44ec0fb-b91e-4c41-9bdf-ca255cbe550c",
   "metadata": {},
   "outputs": [
    {
     "name": "stdout",
     "output_type": "stream",
     "text": [
      "VendorID                          int64\n",
      "lpep_pickup_datetime     datetime64[us]\n",
      "lpep_dropoff_datetime    datetime64[us]\n",
      "store_and_fwd_flag               object\n",
      "RatecodeID                      float64\n",
      "PULocationID                      int64\n",
      "DOLocationID                      int64\n",
      "passenger_count                 float64\n",
      "trip_distance                   float64\n",
      "fare_amount                     float64\n",
      "extra                           float64\n",
      "mta_tax                         float64\n",
      "tip_amount                      float64\n",
      "tolls_amount                    float64\n",
      "ehail_fee                        object\n",
      "improvement_surcharge           float64\n",
      "total_amount                    float64\n",
      "payment_type                    float64\n",
      "trip_type                       float64\n",
      "congestion_surcharge            float64\n",
      "dtype: object\n"
     ]
    }
   ],
   "source": [
    "print(df1.dtypes)"
   ]
  },
  {
   "cell_type": "code",
   "execution_count": null,
   "id": "e5e2388b-68dd-4d02-a9f9-12ec1ff6b94f",
   "metadata": {},
   "outputs": [],
   "source": [
    "# print(df1)\n",
    "# print(df2)"
   ]
  },
  {
   "cell_type": "code",
   "execution_count": 36,
   "id": "bed72378-af72-417b-9cc4-96326db0dc45",
   "metadata": {},
   "outputs": [],
   "source": [
    "# print(df1.dtypes)\n",
    "# print(df2.dtypes)\n",
    "df1 = df1[df1.trip_type == 2]\n",
    "df2 = df2[df2.trip_type == 2]"
   ]
  },
  {
   "cell_type": "code",
   "execution_count": 37,
   "id": "1f98721b-02f1-4a37-97f5-ca30904f43ea",
   "metadata": {},
   "outputs": [],
   "source": [
    "# print(df1)\n",
    "# print(df2)"
   ]
  },
  {
   "cell_type": "code",
   "execution_count": 44,
   "id": "53101ada-77f0-43d7-97a6-cfe602414b9a",
   "metadata": {},
   "outputs": [],
   "source": [
    "# unnecessary with parquet files:\n",
    "# df1.lpep_dropoff_datetime = pd.to_datetime(df1.lpep_dropoff_datetime)\n",
    "# df1.lpep_pickup_datetime = pd.to_datetime(df1.lpep_pickup_datetime)"
   ]
  },
  {
   "cell_type": "code",
   "execution_count": 55,
   "id": "2680ba2e-9c5d-4e6d-8102-e5c17bfb463e",
   "metadata": {},
   "outputs": [],
   "source": [
    "df1['duration'] = df1.lpep_dropoff_datetime - df1.lpep_pickup_datetime\n",
    "df2['duration'] = df2.lpep_dropoff_datetime - df2.lpep_pickup_datetime"
   ]
  },
  {
   "cell_type": "code",
   "execution_count": 56,
   "id": "53c16fd6-39d8-49a1-94b6-b4d0e13bcf54",
   "metadata": {},
   "outputs": [
    {
     "name": "stdout",
     "output_type": "stream",
     "text": [
      "6       0 days 00:00:07\n",
      "15      0 days 00:00:02\n",
      "30      0 days 00:19:46\n",
      "43      0 days 02:01:12\n",
      "45      0 days 00:00:04\n",
      "              ...      \n",
      "40363   0 days 00:09:27\n",
      "40364   0 days 00:35:02\n",
      "40377   0 days 00:00:40\n",
      "40394   0 days 00:00:03\n",
      "40430   0 days 00:23:09\n",
      "Name: duration, Length: 1238, dtype: timedelta64[us]\n"
     ]
    }
   ],
   "source": [
    "print(df1.duration)"
   ]
  },
  {
   "cell_type": "code",
   "execution_count": 57,
   "id": "956eca53-7e9e-423c-9c9d-6af3cd262c3e",
   "metadata": {},
   "outputs": [],
   "source": [
    "df1.duration = df1.duration.apply(lambda td: td.total_seconds() / 60)\n",
    "df2.duration = df2.duration.apply(lambda td: td.total_seconds() / 60)"
   ]
  },
  {
   "cell_type": "code",
   "execution_count": 58,
   "id": "6ced92bf-bf0a-4925-b881-9f75ca0683aa",
   "metadata": {},
   "outputs": [
    {
     "data": {
      "text/plain": [
       "6          0.116667\n",
       "15         0.033333\n",
       "30        19.766667\n",
       "43       121.200000\n",
       "45         0.066667\n",
       "            ...    \n",
       "40363      9.450000\n",
       "40364     35.033333\n",
       "40377      0.666667\n",
       "40394      0.050000\n",
       "40430     23.150000\n",
       "Name: duration, Length: 1238, dtype: float64"
      ]
     },
     "execution_count": 58,
     "metadata": {},
     "output_type": "execute_result"
    }
   ],
   "source": [
    "df1.duration"
   ]
  },
  {
   "cell_type": "code",
   "execution_count": 63,
   "id": "a29d652a-609c-4d6c-8cad-5021a20821a6",
   "metadata": {},
   "outputs": [
    {
     "name": "stdout",
     "output_type": "stream",
     "text": [
      "0.0\n",
      "0.0\n"
     ]
    }
   ],
   "source": [
    "print(df1.duration.min())\n",
    "print(df2.duration.min())"
   ]
  }
 ],
 "metadata": {
  "kernelspec": {
   "display_name": "Python 3 (ipykernel)",
   "language": "python",
   "name": "python3"
  },
  "language_info": {
   "codemirror_mode": {
    "name": "ipython",
    "version": 3
   },
   "file_extension": ".py",
   "mimetype": "text/x-python",
   "name": "python",
   "nbconvert_exporter": "python",
   "pygments_lexer": "ipython3",
   "version": "3.11.7"
  }
 },
 "nbformat": 4,
 "nbformat_minor": 5
}
