{
 "cells": [
  {
   "cell_type": "code",
   "execution_count": null,
   "id": "9e9c6051-588c-4869-acfb-d9bbdbda57d9",
   "metadata": {},
   "outputs": [
    {
     "name": "stdout",
     "output_type": "stream",
     "text": [
      "/home/limnococcus/mlops-zc/02-exp_tracking\n"
     ]
    }
   ],
   "source": [
    "# !pwd"
   ]
  },
  {
   "cell_type": "code",
   "execution_count": null,
   "id": "7d06f6f0-3009-42c6-8006-c21027af46e9",
   "metadata": {},
   "outputs": [],
   "source": [
    "!python ~/mlops-zoomcamp/cohorts/2024/02-experiment-tracking/homework/preprocess_data.py --raw_data_path ~/notebooks/data --dest_path ~/notebooks/output/"
   ]
  }
 ],
 "metadata": {
  "kernelspec": {
   "display_name": "Python 3 (ipykernel)",
   "language": "python",
   "name": "python3"
  },
  "language_info": {
   "codemirror_mode": {
    "name": "ipython",
    "version": 3
   },
   "file_extension": ".py",
   "mimetype": "text/x-python",
   "name": "python",
   "nbconvert_exporter": "python",
   "pygments_lexer": "ipython3",
   "version": "3.12.3"
  }
 },
 "nbformat": 4,
 "nbformat_minor": 5
}
